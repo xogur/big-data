{
 "cells": [
  {
   "cell_type": "markdown",
   "metadata": {},
   "source": [
    "### 1. \"누비자.csv\"파일은 주소지별로 보유 누비자 자전거 대수, 설치시기, 위도경도를  나타내는 파일이다.\n",
    "###      아래의 질문에 해당하는 코드를 작성하시오"
   ]
  },
  {
   "cell_type": "code",
   "execution_count": 15,
   "metadata": {
    "ExecuteTime": {
     "end_time": "2023-06-19T00:04:07.630972Z",
     "start_time": "2023-06-19T00:04:07.605655Z"
    }
   },
   "outputs": [
    {
     "data": {
      "text/html": [
       "<div>\n",
       "<style scoped>\n",
       "    .dataframe tbody tr th:only-of-type {\n",
       "        vertical-align: middle;\n",
       "    }\n",
       "\n",
       "    .dataframe tbody tr th {\n",
       "        vertical-align: top;\n",
       "    }\n",
       "\n",
       "    .dataframe thead th {\n",
       "        text-align: right;\n",
       "    }\n",
       "</style>\n",
       "<table border=\"1\" class=\"dataframe\">\n",
       "  <thead>\n",
       "    <tr style=\"text-align: right;\">\n",
       "      <th></th>\n",
       "      <th>번호</th>\n",
       "      <th>터미널명</th>\n",
       "      <th>구</th>\n",
       "      <th>동</th>\n",
       "      <th>주소</th>\n",
       "      <th>등록일자</th>\n",
       "      <th>보관대수</th>\n",
       "      <th>위도</th>\n",
       "      <th>경도</th>\n",
       "    </tr>\n",
       "  </thead>\n",
       "  <tbody>\n",
       "    <tr>\n",
       "      <th>0</th>\n",
       "      <td>1</td>\n",
       "      <td>동읍동중학교 앞</td>\n",
       "      <td>의창구</td>\n",
       "      <td>동읍</td>\n",
       "      <td>경남 창원시 의창구 동읍 신방리 871-6 수로</td>\n",
       "      <td>2011-08-04</td>\n",
       "      <td>16</td>\n",
       "      <td>35.291246</td>\n",
       "      <td>128.675877</td>\n",
       "    </tr>\n",
       "    <tr>\n",
       "      <th>1</th>\n",
       "      <td>2</td>\n",
       "      <td>동읍보건지소</td>\n",
       "      <td>의창구</td>\n",
       "      <td>동읍</td>\n",
       "      <td>경남 창원시 의창구 동읍 용잠리 230-7 대</td>\n",
       "      <td>2009-05-14</td>\n",
       "      <td>15</td>\n",
       "      <td>35.279618</td>\n",
       "      <td>128.688719</td>\n",
       "    </tr>\n",
       "    <tr>\n",
       "      <th>2</th>\n",
       "      <td>3</td>\n",
       "      <td>동읍주민복지관</td>\n",
       "      <td>의창구</td>\n",
       "      <td>동읍</td>\n",
       "      <td>경남 창원시 의창구 동읍 용잠리 687)</td>\n",
       "      <td>2021-07-27</td>\n",
       "      <td>15</td>\n",
       "      <td>35.283956</td>\n",
       "      <td>128.681827</td>\n",
       "    </tr>\n",
       "    <tr>\n",
       "      <th>3</th>\n",
       "      <td>4</td>\n",
       "      <td>자여민원센터</td>\n",
       "      <td>의창구</td>\n",
       "      <td>동읍</td>\n",
       "      <td>경남 창원시 의창구 동읍 송정리 98-21</td>\n",
       "      <td>2009-05-14</td>\n",
       "      <td>10</td>\n",
       "      <td>35.277152</td>\n",
       "      <td>128.700567</td>\n",
       "    </tr>\n",
       "    <tr>\n",
       "      <th>4</th>\n",
       "      <td>5</td>\n",
       "      <td>주남저수지 주차장</td>\n",
       "      <td>의창구</td>\n",
       "      <td>동읍</td>\n",
       "      <td>경남 창원시 의창구 동읍 월잠리 303-7</td>\n",
       "      <td>2019-10-15</td>\n",
       "      <td>15</td>\n",
       "      <td>35.306059</td>\n",
       "      <td>128.678244</td>\n",
       "    </tr>\n",
       "    <tr>\n",
       "      <th>...</th>\n",
       "      <td>...</td>\n",
       "      <td>...</td>\n",
       "      <td>...</td>\n",
       "      <td>...</td>\n",
       "      <td>...</td>\n",
       "      <td>...</td>\n",
       "      <td>...</td>\n",
       "      <td>...</td>\n",
       "      <td>...</td>\n",
       "    </tr>\n",
       "    <tr>\n",
       "      <th>278</th>\n",
       "      <td>279</td>\n",
       "      <td>용원공영주차빌딩</td>\n",
       "      <td>진해구</td>\n",
       "      <td>웅동2동</td>\n",
       "      <td>경남 창원시 진해구 용원동  1219-1</td>\n",
       "      <td>2020-02-13</td>\n",
       "      <td>15</td>\n",
       "      <td>35.100001</td>\n",
       "      <td>128.814410</td>\n",
       "    </tr>\n",
       "    <tr>\n",
       "      <th>279</th>\n",
       "      <td>280</td>\n",
       "      <td>용원동 애플타운상가 옆</td>\n",
       "      <td>진해구</td>\n",
       "      <td>웅동2동</td>\n",
       "      <td>경남 창원시 진해구 용원동  1359</td>\n",
       "      <td>2020-09-11</td>\n",
       "      <td>18</td>\n",
       "      <td>35.088585</td>\n",
       "      <td>128.814102</td>\n",
       "    </tr>\n",
       "    <tr>\n",
       "      <th>280</th>\n",
       "      <td>281</td>\n",
       "      <td>용원하나로마트(맞은편)</td>\n",
       "      <td>진해구</td>\n",
       "      <td>웅동2동</td>\n",
       "      <td>경남 창원시 진해구 용원동  1289</td>\n",
       "      <td>2015-06-14</td>\n",
       "      <td>17</td>\n",
       "      <td>35.100843</td>\n",
       "      <td>128.809458</td>\n",
       "    </tr>\n",
       "    <tr>\n",
       "      <th>281</th>\n",
       "      <td>282</td>\n",
       "      <td>웅2동 청안공원</td>\n",
       "      <td>진해구</td>\n",
       "      <td>웅동2동</td>\n",
       "      <td>경남 창원시 진해구 용원동  1207-1 공원</td>\n",
       "      <td>2011-08-05</td>\n",
       "      <td>11</td>\n",
       "      <td>35.103839</td>\n",
       "      <td>128.806651</td>\n",
       "    </tr>\n",
       "    <tr>\n",
       "      <th>282</th>\n",
       "      <td>283</td>\n",
       "      <td>진해동부도서관</td>\n",
       "      <td>진해구</td>\n",
       "      <td>웅동2동</td>\n",
       "      <td>경남 창원시 진해구 용원동  1226 공원</td>\n",
       "      <td>2011-08-05</td>\n",
       "      <td>8</td>\n",
       "      <td>35.100635</td>\n",
       "      <td>128.817873</td>\n",
       "    </tr>\n",
       "  </tbody>\n",
       "</table>\n",
       "<p>283 rows × 9 columns</p>\n",
       "</div>"
      ],
      "text/plain": [
       "      번호          터미널명    구     동                          주소        등록일자  \\\n",
       "0      1      동읍동중학교 앞  의창구    동읍  경남 창원시 의창구 동읍 신방리 871-6 수로  2011-08-04   \n",
       "1      2        동읍보건지소  의창구    동읍   경남 창원시 의창구 동읍 용잠리 230-7 대  2009-05-14   \n",
       "2      3       동읍주민복지관  의창구    동읍      경남 창원시 의창구 동읍 용잠리 687)  2021-07-27   \n",
       "3      4        자여민원센터  의창구    동읍     경남 창원시 의창구 동읍 송정리 98-21  2009-05-14   \n",
       "4      5     주남저수지 주차장  의창구    동읍     경남 창원시 의창구 동읍 월잠리 303-7  2019-10-15   \n",
       "..   ...           ...  ...   ...                         ...         ...   \n",
       "278  279      용원공영주차빌딩  진해구  웅동2동      경남 창원시 진해구 용원동  1219-1  2020-02-13   \n",
       "279  280  용원동 애플타운상가 옆  진해구  웅동2동        경남 창원시 진해구 용원동  1359  2020-09-11   \n",
       "280  281  용원하나로마트(맞은편)  진해구  웅동2동        경남 창원시 진해구 용원동  1289  2015-06-14   \n",
       "281  282      웅2동 청안공원  진해구  웅동2동   경남 창원시 진해구 용원동  1207-1 공원  2011-08-05   \n",
       "282  283       진해동부도서관  진해구  웅동2동     경남 창원시 진해구 용원동  1226 공원  2011-08-05   \n",
       "\n",
       "     보관대수         위도          경도  \n",
       "0      16  35.291246  128.675877  \n",
       "1      15  35.279618  128.688719  \n",
       "2      15  35.283956  128.681827  \n",
       "3      10  35.277152  128.700567  \n",
       "4      15  35.306059  128.678244  \n",
       "..    ...        ...         ...  \n",
       "278    15  35.100001  128.814410  \n",
       "279    18  35.088585  128.814102  \n",
       "280    17  35.100843  128.809458  \n",
       "281    11  35.103839  128.806651  \n",
       "282     8  35.100635  128.817873  \n",
       "\n",
       "[283 rows x 9 columns]"
      ]
     },
     "execution_count": 15,
     "metadata": {},
     "output_type": "execute_result"
    }
   ],
   "source": [
    "import matplotlib.pyplot as plt\n",
    "plt.rc('font', family='Malgun Gothic')\n",
    "import chardet\n",
    "import pandas as pd\n",
    "data = pd.read_csv('누비자.csv', encoding='EUC-KR')\n",
    "data"
   ]
  },
  {
   "cell_type": "markdown",
   "metadata": {},
   "source": [
    "#### 1-1. 창원시 구별 누비자 보관대수를 집계하고 이를 막대그래프로 시각화 하시오."
   ]
  },
  {
   "cell_type": "code",
   "execution_count": 8,
   "metadata": {
    "ExecuteTime": {
     "end_time": "2023-06-19T00:04:57.164626Z",
     "start_time": "2023-06-19T00:04:57.157268Z"
    }
   },
   "outputs": [
    {
     "data": {
      "text/plain": [
       "구\n",
       "마산합포구     411\n",
       "마산회원구     653\n",
       "성산구      2854\n",
       "의창구      1542\n",
       "진해구       932\n",
       "Name: 보관대수, dtype: int64"
      ]
     },
     "execution_count": 8,
     "metadata": {},
     "output_type": "execute_result"
    }
   ],
   "source": [
    "gu_data = data.groupby('구').보관대수.sum()\n",
    "gu_data"
   ]
  },
  {
   "cell_type": "code",
   "execution_count": 10,
   "metadata": {
    "ExecuteTime": {
     "end_time": "2023-06-19T00:04:58.060571Z",
     "start_time": "2023-06-19T00:04:58.053529Z"
    }
   },
   "outputs": [
    {
     "data": {
      "text/plain": [
       "(<AxesSubplot:title={'center':'구별 보관대 수'}, xlabel='구', ylabel='보관대 수'>,\n",
       " Text(0, 0.5, '보관대 수'),\n",
       " Text(0.5, 1.0, '구별 보관대 수'))"
      ]
     },
     "execution_count": 10,
     "metadata": {},
     "output_type": "execute_result"
    },
    {
     "data": {
      "image/png": "[encoded data removed]",
      "text/plain": [
       "<Figure size 640x480 with 1 Axes>"
      ]
     },
     "metadata": {},
     "output_type": "display_data"
    }
   ],
   "source": [
    "gu_data.plot.bar(), plt.ylabel('보관대 수'), plt.title('구별 보관대 수')"
   ]
  },
  {
   "cell_type": "markdown",
   "metadata": {},
   "source": [
    "#### 1-2. \"등록일자\" 컬럼을 년도(예를들어 2011)만 표시하는 \"년도\" 컬럼으로 바꾸시오.   \"년도\" 컬럼의 값도 정수값으로 변환하고 결과 DataFrame을 처음 10개만 출력하시오.   \n"
   ]
  },
  {
   "cell_type": "code",
   "execution_count": 18,
   "metadata": {
    "ExecuteTime": {
     "end_time": "2023-06-19T00:04:59.837045Z",
     "start_time": "2023-06-19T00:04:59.811862Z"
    },
    "scrolled": true
   },
   "outputs": [],
   "source": [
    "data['등록일자'] = data['등록일자'].str[:4]\n",
    "data = data.rename(columns = {'등록일자' : '년도'})"
   ]
  },
  {
   "cell_type": "code",
   "execution_count": 20,
   "metadata": {},
   "outputs": [],
   "source": [
    "data['년도'] = data['년도'].astype(int)"
   ]
  },
  {
   "cell_type": "code",
   "execution_count": 22,
   "metadata": {},
   "outputs": [
    {
     "name": "stdout",
     "output_type": "stream",
     "text": [
      "<class 'pandas.core.frame.DataFrame'>\n",
      "RangeIndex: 283 entries, 0 to 282\n",
      "Data columns (total 9 columns):\n",
      " #   Column  Non-Null Count  Dtype  \n",
      "---  ------  --------------  -----  \n",
      " 0   번호      283 non-null    int64  \n",
      " 1   터미널명    283 non-null    object \n",
      " 2   구       283 non-null    object \n",
      " 3   동       283 non-null    object \n",
      " 4   주소      283 non-null    object \n",
      " 5   년도      283 non-null    int32  \n",
      " 6   보관대수    283 non-null    int64  \n",
      " 7   위도      283 non-null    float64\n",
      " 8   경도      283 non-null    float64\n",
      "dtypes: float64(2), int32(1), int64(2), object(4)\n",
      "memory usage: 18.9+ KB\n"
     ]
    }
   ],
   "source": [
    "data.info()"
   ]
  },
  {
   "cell_type": "markdown",
   "metadata": {},
   "source": [
    "#### 1-3. 최초 설치를 시작한 시작년도 부터 마지막 년도까지 보관대수를 누적하는 그래프를 그리시오  "
   ]
  },
  {
   "cell_type": "code",
   "execution_count": 47,
   "metadata": {
    "ExecuteTime": {
     "end_time": "2023-06-19T00:05:07.305131Z",
     "start_time": "2023-06-19T00:05:07.285305Z"
    }
   },
   "outputs": [],
   "source": [
    "data_year = data.groupby('년도').보관대수.sum()\n",
    "data_year = data_year.to_frame()"
   ]
  },
  {
   "cell_type": "code",
   "execution_count": 53,
   "metadata": {},
   "outputs": [
    {
     "data": {
      "text/html": [
       "<div>\n",
       "<style scoped>\n",
       "    .dataframe tbody tr th:only-of-type {\n",
       "        vertical-align: middle;\n",
       "    }\n",
       "\n",
       "    .dataframe tbody tr th {\n",
       "        vertical-align: top;\n",
       "    }\n",
       "\n",
       "    .dataframe thead th {\n",
       "        text-align: right;\n",
       "    }\n",
       "</style>\n",
       "<table border=\"1\" class=\"dataframe\">\n",
       "  <thead>\n",
       "    <tr style=\"text-align: right;\">\n",
       "      <th></th>\n",
       "      <th>보관대수</th>\n",
       "    </tr>\n",
       "    <tr>\n",
       "      <th>년도</th>\n",
       "      <th></th>\n",
       "    </tr>\n",
       "  </thead>\n",
       "  <tbody>\n",
       "    <tr>\n",
       "      <th>2008</th>\n",
       "      <td>570</td>\n",
       "    </tr>\n",
       "    <tr>\n",
       "      <th>2009</th>\n",
       "      <td>1804</td>\n",
       "    </tr>\n",
       "    <tr>\n",
       "      <th>2010</th>\n",
       "      <td>1133</td>\n",
       "    </tr>\n",
       "    <tr>\n",
       "      <th>2011</th>\n",
       "      <td>1282</td>\n",
       "    </tr>\n",
       "    <tr>\n",
       "      <th>2012</th>\n",
       "      <td>225</td>\n",
       "    </tr>\n",
       "    <tr>\n",
       "      <th>2013</th>\n",
       "      <td>59</td>\n",
       "    </tr>\n",
       "    <tr>\n",
       "      <th>2014</th>\n",
       "      <td>137</td>\n",
       "    </tr>\n",
       "    <tr>\n",
       "      <th>2015</th>\n",
       "      <td>173</td>\n",
       "    </tr>\n",
       "    <tr>\n",
       "      <th>2016</th>\n",
       "      <td>235</td>\n",
       "    </tr>\n",
       "    <tr>\n",
       "      <th>2017</th>\n",
       "      <td>198</td>\n",
       "    </tr>\n",
       "    <tr>\n",
       "      <th>2018</th>\n",
       "      <td>119</td>\n",
       "    </tr>\n",
       "    <tr>\n",
       "      <th>2019</th>\n",
       "      <td>170</td>\n",
       "    </tr>\n",
       "    <tr>\n",
       "      <th>2020</th>\n",
       "      <td>138</td>\n",
       "    </tr>\n",
       "    <tr>\n",
       "      <th>2021</th>\n",
       "      <td>149</td>\n",
       "    </tr>\n",
       "  </tbody>\n",
       "</table>\n",
       "</div>"
      ],
      "text/plain": [
       "      보관대수\n",
       "년도        \n",
       "2008   570\n",
       "2009  1804\n",
       "2010  1133\n",
       "2011  1282\n",
       "2012   225\n",
       "2013    59\n",
       "2014   137\n",
       "2015   173\n",
       "2016   235\n",
       "2017   198\n",
       "2018   119\n",
       "2019   170\n",
       "2020   138\n",
       "2021   149"
      ]
     },
     "execution_count": 53,
     "metadata": {},
     "output_type": "execute_result"
    }
   ],
   "source": [
    "data_year"
   ]
  },
  {
   "cell_type": "code",
   "execution_count": 44,
   "metadata": {},
   "outputs": [
    {
     "data": {
      "text/plain": [
       "년도\n",
       "2008     570\n",
       "2009    2374\n",
       "2010    3507\n",
       "2011    4789\n",
       "2012    5014\n",
       "2013    5073\n",
       "2014    5210\n",
       "2015    5383\n",
       "2016    5618\n",
       "2017    5816\n",
       "2018    5935\n",
       "2019    6105\n",
       "2020    6243\n",
       "2021    6392\n",
       "Name: 보관대수, dtype: int64"
      ]
     },
     "execution_count": 44,
     "metadata": {},
     "output_type": "execute_result"
    }
   ],
   "source": [
    "s = 0\n",
    "for i in range(len(data_year.index)):\n",
    "    s = s + data_year.iloc[i]\n",
    "    data_year.iloc[i] = s\n",
    "data_year"
   ]
  },
  {
   "cell_type": "code",
   "execution_count": 45,
   "metadata": {},
   "outputs": [
    {
     "data": {
      "text/plain": [
       "(<AxesSubplot:xlabel='년도', ylabel='누적 보관대수'>, Text(0, 0.5, '누적 보관대수'))"
      ]
     },
     "execution_count": 45,
     "metadata": {},
     "output_type": "execute_result"
    },
    {
     "data": {
      "image/png": "[encoded data removed]",
      "text/plain": [
       "<Figure size 640x480 with 1 Axes>"
      ]
     },
     "metadata": {},
     "output_type": "display_data"
    }
   ],
   "source": [
    "data_year.plot.bar(), plt.ylabel('누적 보관대수')"
   ]
  },
  {
   "cell_type": "markdown",
   "metadata": {},
   "source": [
    "### 2. \"연월별외국인방문객.xlsx\"파일은 2015년 1월부터 2023년 3월까지 외국인 입국자 통계를 보여주고 있다. \n",
    "###      아래의 질문에 해당하는 코드를 작성하시오"
   ]
  },
  {
   "cell_type": "code",
   "execution_count": 20,
   "metadata": {
    "ExecuteTime": {
     "end_time": "2023-06-19T00:33:35.414577Z",
     "start_time": "2023-06-19T00:33:35.379223Z"
    }
   },
   "outputs": [
    {
     "data": {
      "text/html": [
       "<div>\n",
       "<style scoped>\n",
       "    .dataframe tbody tr th:only-of-type {\n",
       "        vertical-align: middle;\n",
       "    }\n",
       "\n",
       "    .dataframe tbody tr th {\n",
       "        vertical-align: top;\n",
       "    }\n",
       "\n",
       "    .dataframe thead th {\n",
       "        text-align: right;\n",
       "    }\n",
       "</style>\n",
       "<table border=\"1\" class=\"dataframe\">\n",
       "  <thead>\n",
       "    <tr style=\"text-align: right;\">\n",
       "      <th></th>\n",
       "      <th>Unnamed: 0</th>\n",
       "      <th>관광</th>\n",
       "      <th>상용</th>\n",
       "      <th>공용</th>\n",
       "      <th>유학연수</th>\n",
       "      <th>기타</th>\n",
       "      <th>전체</th>\n",
       "    </tr>\n",
       "  </thead>\n",
       "  <tbody>\n",
       "    <tr>\n",
       "      <th>0</th>\n",
       "      <td>201501</td>\n",
       "      <td>723255</td>\n",
       "      <td>17686</td>\n",
       "      <td>3094</td>\n",
       "      <td>7752</td>\n",
       "      <td>165267</td>\n",
       "      <td>917054</td>\n",
       "    </tr>\n",
       "    <tr>\n",
       "      <th>1</th>\n",
       "      <td>201502</td>\n",
       "      <td>815138</td>\n",
       "      <td>14354</td>\n",
       "      <td>2256</td>\n",
       "      <td>36399</td>\n",
       "      <td>182559</td>\n",
       "      <td>1050706</td>\n",
       "    </tr>\n",
       "    <tr>\n",
       "      <th>2</th>\n",
       "      <td>201503</td>\n",
       "      <td>958493</td>\n",
       "      <td>18549</td>\n",
       "      <td>3241</td>\n",
       "      <td>27129</td>\n",
       "      <td>230732</td>\n",
       "      <td>1238144</td>\n",
       "    </tr>\n",
       "    <tr>\n",
       "      <th>3</th>\n",
       "      <td>201504</td>\n",
       "      <td>1112904</td>\n",
       "      <td>17326</td>\n",
       "      <td>4913</td>\n",
       "      <td>5556</td>\n",
       "      <td>243868</td>\n",
       "      <td>1384567</td>\n",
       "    </tr>\n",
       "    <tr>\n",
       "      <th>4</th>\n",
       "      <td>201505</td>\n",
       "      <td>1060730</td>\n",
       "      <td>19010</td>\n",
       "      <td>4679</td>\n",
       "      <td>9222</td>\n",
       "      <td>240571</td>\n",
       "      <td>1334212</td>\n",
       "    </tr>\n",
       "    <tr>\n",
       "      <th>...</th>\n",
       "      <td>...</td>\n",
       "      <td>...</td>\n",
       "      <td>...</td>\n",
       "      <td>...</td>\n",
       "      <td>...</td>\n",
       "      <td>...</td>\n",
       "      <td>...</td>\n",
       "    </tr>\n",
       "    <tr>\n",
       "      <th>95</th>\n",
       "      <td>202212</td>\n",
       "      <td>434305</td>\n",
       "      <td>6920</td>\n",
       "      <td>3702</td>\n",
       "      <td>9988</td>\n",
       "      <td>84358</td>\n",
       "      <td>539273</td>\n",
       "    </tr>\n",
       "    <tr>\n",
       "      <th>96</th>\n",
       "      <td>202301</td>\n",
       "      <td>312847</td>\n",
       "      <td>7645</td>\n",
       "      <td>4145</td>\n",
       "      <td>13674</td>\n",
       "      <td>96118</td>\n",
       "      <td>434429</td>\n",
       "    </tr>\n",
       "    <tr>\n",
       "      <th>97</th>\n",
       "      <td>202302</td>\n",
       "      <td>319098</td>\n",
       "      <td>7383</td>\n",
       "      <td>3165</td>\n",
       "      <td>53111</td>\n",
       "      <td>96491</td>\n",
       "      <td>479248</td>\n",
       "    </tr>\n",
       "    <tr>\n",
       "      <th>98</th>\n",
       "      <td>202303</td>\n",
       "      <td>627681</td>\n",
       "      <td>10543</td>\n",
       "      <td>4719</td>\n",
       "      <td>30743</td>\n",
       "      <td>126889</td>\n",
       "      <td>800575</td>\n",
       "    </tr>\n",
       "    <tr>\n",
       "      <th>99</th>\n",
       "      <td>전체</td>\n",
       "      <td>66454511</td>\n",
       "      <td>1062435</td>\n",
       "      <td>372830</td>\n",
       "      <td>1912017</td>\n",
       "      <td>15255464</td>\n",
       "      <td>85057257</td>\n",
       "    </tr>\n",
       "  </tbody>\n",
       "</table>\n",
       "<p>100 rows × 7 columns</p>\n",
       "</div>"
      ],
      "text/plain": [
       "   Unnamed: 0        관광       상용      공용     유학연수        기타        전체\n",
       "0      201501    723255    17686    3094     7752    165267    917054\n",
       "1      201502    815138    14354    2256    36399    182559   1050706\n",
       "2      201503    958493    18549    3241    27129    230732   1238144\n",
       "3      201504   1112904    17326    4913     5556    243868   1384567\n",
       "4      201505   1060730    19010    4679     9222    240571   1334212\n",
       "..        ...       ...      ...     ...      ...       ...       ...\n",
       "95     202212    434305     6920    3702     9988     84358    539273\n",
       "96     202301    312847     7645    4145    13674     96118    434429\n",
       "97     202302    319098     7383    3165    53111     96491    479248\n",
       "98     202303    627681    10543    4719    30743    126889    800575\n",
       "99         전체  66454511  1062435  372830  1912017  15255464  85057257\n",
       "\n",
       "[100 rows x 7 columns]"
      ]
     },
     "execution_count": 20,
     "metadata": {},
     "output_type": "execute_result"
    }
   ],
   "source": [
    "import pandas as pd\n",
    "df = pd.read_excel('연월별외국인방문객.xlsx')\n",
    "df"
   ]
  },
  {
   "cell_type": "markdown",
   "metadata": {},
   "source": [
    "#### 2-1. \"관광\", \"상용\", \"공용\", \"유학연수\", \"기타\", \"전체\" 컬럼의 외국인 입국자 수를 년도별로 집계한 DataFrame을 만들어 출력하시오. \n",
    "#### 단, 2023년은 1월부터 3월까지의 평균치를 4월에서 12월에 적용하시오. "
   ]
  },
  {
   "cell_type": "code",
   "execution_count": 21,
   "metadata": {
    "ExecuteTime": {
     "end_time": "2023-06-19T00:34:11.345932Z",
     "start_time": "2023-06-19T00:34:11.331054Z"
    }
   },
   "outputs": [
    {
     "data": {
      "text/html": [
       "<div>\n",
       "<style scoped>\n",
       "    .dataframe tbody tr th:only-of-type {\n",
       "        vertical-align: middle;\n",
       "    }\n",
       "\n",
       "    .dataframe tbody tr th {\n",
       "        vertical-align: top;\n",
       "    }\n",
       "\n",
       "    .dataframe thead th {\n",
       "        text-align: right;\n",
       "    }\n",
       "</style>\n",
       "<table border=\"1\" class=\"dataframe\">\n",
       "  <thead>\n",
       "    <tr style=\"text-align: right;\">\n",
       "      <th></th>\n",
       "      <th>Unnamed: 0</th>\n",
       "      <th>관광</th>\n",
       "      <th>상용</th>\n",
       "      <th>공용</th>\n",
       "      <th>유학연수</th>\n",
       "      <th>기타</th>\n",
       "      <th>전체</th>\n",
       "    </tr>\n",
       "  </thead>\n",
       "  <tbody>\n",
       "    <tr>\n",
       "      <th>0</th>\n",
       "      <td>201501</td>\n",
       "      <td>723255</td>\n",
       "      <td>17686</td>\n",
       "      <td>3094</td>\n",
       "      <td>7752</td>\n",
       "      <td>165267</td>\n",
       "      <td>917054</td>\n",
       "    </tr>\n",
       "    <tr>\n",
       "      <th>1</th>\n",
       "      <td>201502</td>\n",
       "      <td>815138</td>\n",
       "      <td>14354</td>\n",
       "      <td>2256</td>\n",
       "      <td>36399</td>\n",
       "      <td>182559</td>\n",
       "      <td>1050706</td>\n",
       "    </tr>\n",
       "    <tr>\n",
       "      <th>2</th>\n",
       "      <td>201503</td>\n",
       "      <td>958493</td>\n",
       "      <td>18549</td>\n",
       "      <td>3241</td>\n",
       "      <td>27129</td>\n",
       "      <td>230732</td>\n",
       "      <td>1238144</td>\n",
       "    </tr>\n",
       "    <tr>\n",
       "      <th>3</th>\n",
       "      <td>201504</td>\n",
       "      <td>1112904</td>\n",
       "      <td>17326</td>\n",
       "      <td>4913</td>\n",
       "      <td>5556</td>\n",
       "      <td>243868</td>\n",
       "      <td>1384567</td>\n",
       "    </tr>\n",
       "    <tr>\n",
       "      <th>4</th>\n",
       "      <td>201505</td>\n",
       "      <td>1060730</td>\n",
       "      <td>19010</td>\n",
       "      <td>4679</td>\n",
       "      <td>9222</td>\n",
       "      <td>240571</td>\n",
       "      <td>1334212</td>\n",
       "    </tr>\n",
       "    <tr>\n",
       "      <th>...</th>\n",
       "      <td>...</td>\n",
       "      <td>...</td>\n",
       "      <td>...</td>\n",
       "      <td>...</td>\n",
       "      <td>...</td>\n",
       "      <td>...</td>\n",
       "      <td>...</td>\n",
       "    </tr>\n",
       "    <tr>\n",
       "      <th>94</th>\n",
       "      <td>202211</td>\n",
       "      <td>341686</td>\n",
       "      <td>9855</td>\n",
       "      <td>4750</td>\n",
       "      <td>6313</td>\n",
       "      <td>97302</td>\n",
       "      <td>459906</td>\n",
       "    </tr>\n",
       "    <tr>\n",
       "      <th>95</th>\n",
       "      <td>202212</td>\n",
       "      <td>434305</td>\n",
       "      <td>6920</td>\n",
       "      <td>3702</td>\n",
       "      <td>9988</td>\n",
       "      <td>84358</td>\n",
       "      <td>539273</td>\n",
       "    </tr>\n",
       "    <tr>\n",
       "      <th>96</th>\n",
       "      <td>202301</td>\n",
       "      <td>312847</td>\n",
       "      <td>7645</td>\n",
       "      <td>4145</td>\n",
       "      <td>13674</td>\n",
       "      <td>96118</td>\n",
       "      <td>434429</td>\n",
       "    </tr>\n",
       "    <tr>\n",
       "      <th>97</th>\n",
       "      <td>202302</td>\n",
       "      <td>319098</td>\n",
       "      <td>7383</td>\n",
       "      <td>3165</td>\n",
       "      <td>53111</td>\n",
       "      <td>96491</td>\n",
       "      <td>479248</td>\n",
       "    </tr>\n",
       "    <tr>\n",
       "      <th>98</th>\n",
       "      <td>202303</td>\n",
       "      <td>627681</td>\n",
       "      <td>10543</td>\n",
       "      <td>4719</td>\n",
       "      <td>30743</td>\n",
       "      <td>126889</td>\n",
       "      <td>800575</td>\n",
       "    </tr>\n",
       "  </tbody>\n",
       "</table>\n",
       "<p>99 rows × 7 columns</p>\n",
       "</div>"
      ],
      "text/plain": [
       "   Unnamed: 0       관광     상용    공용   유학연수      기타       전체\n",
       "0      201501   723255  17686  3094   7752  165267   917054\n",
       "1      201502   815138  14354  2256  36399  182559  1050706\n",
       "2      201503   958493  18549  3241  27129  230732  1238144\n",
       "3      201504  1112904  17326  4913   5556  243868  1384567\n",
       "4      201505  1060730  19010  4679   9222  240571  1334212\n",
       "..        ...      ...    ...   ...    ...     ...      ...\n",
       "94     202211   341686   9855  4750   6313   97302   459906\n",
       "95     202212   434305   6920  3702   9988   84358   539273\n",
       "96     202301   312847   7645  4145  13674   96118   434429\n",
       "97     202302   319098   7383  3165  53111   96491   479248\n",
       "98     202303   627681  10543  4719  30743  126889   800575\n",
       "\n",
       "[99 rows x 7 columns]"
      ]
     },
     "execution_count": 21,
     "metadata": {},
     "output_type": "execute_result"
    }
   ],
   "source": [
    "new_data = df[:-1]\n",
    "new_data"
   ]
  },
  {
   "cell_type": "code",
   "execution_count": 22,
   "metadata": {},
   "outputs": [
    {
     "data": {
      "text/html": [
       "<div>\n",
       "<style scoped>\n",
       "    .dataframe tbody tr th:only-of-type {\n",
       "        vertical-align: middle;\n",
       "    }\n",
       "\n",
       "    .dataframe tbody tr th {\n",
       "        vertical-align: top;\n",
       "    }\n",
       "\n",
       "    .dataframe thead th {\n",
       "        text-align: right;\n",
       "    }\n",
       "</style>\n",
       "<table border=\"1\" class=\"dataframe\">\n",
       "  <thead>\n",
       "    <tr style=\"text-align: right;\">\n",
       "      <th></th>\n",
       "      <th>Unnamed: 0</th>\n",
       "      <th>관광</th>\n",
       "      <th>상용</th>\n",
       "      <th>공용</th>\n",
       "      <th>유학연수</th>\n",
       "      <th>기타</th>\n",
       "      <th>전체</th>\n",
       "    </tr>\n",
       "  </thead>\n",
       "  <tbody>\n",
       "    <tr>\n",
       "      <th>96</th>\n",
       "      <td>202301</td>\n",
       "      <td>312847</td>\n",
       "      <td>7645</td>\n",
       "      <td>4145</td>\n",
       "      <td>13674</td>\n",
       "      <td>96118</td>\n",
       "      <td>434429</td>\n",
       "    </tr>\n",
       "    <tr>\n",
       "      <th>97</th>\n",
       "      <td>202302</td>\n",
       "      <td>319098</td>\n",
       "      <td>7383</td>\n",
       "      <td>3165</td>\n",
       "      <td>53111</td>\n",
       "      <td>96491</td>\n",
       "      <td>479248</td>\n",
       "    </tr>\n",
       "    <tr>\n",
       "      <th>98</th>\n",
       "      <td>202303</td>\n",
       "      <td>627681</td>\n",
       "      <td>10543</td>\n",
       "      <td>4719</td>\n",
       "      <td>30743</td>\n",
       "      <td>126889</td>\n",
       "      <td>800575</td>\n",
       "    </tr>\n",
       "  </tbody>\n",
       "</table>\n",
       "</div>"
      ],
      "text/plain": [
       "   Unnamed: 0      관광     상용    공용   유학연수      기타      전체\n",
       "96     202301  312847   7645  4145  13674   96118  434429\n",
       "97     202302  319098   7383  3165  53111   96491  479248\n",
       "98     202303  627681  10543  4719  30743  126889  800575"
      ]
     },
     "execution_count": 22,
     "metadata": {},
     "output_type": "execute_result"
    }
   ],
   "source": [
    "df_2023 = new_data[new_data['Unnamed: 0'].str.contains('2023')]\n",
    "df_2023"
   ]
  },
  {
   "cell_type": "code",
   "execution_count": 23,
   "metadata": {},
   "outputs": [
    {
     "name": "stderr",
     "output_type": "stream",
     "text": [
      "C:\\Users\\82109\\AppData\\Local\\Temp\\ipykernel_19972\\4009168777.py:1: SettingWithCopyWarning: \n",
      "A value is trying to be set on a copy of a slice from a DataFrame.\n",
      "Try using .loc[row_indexer,col_indexer] = value instead\n",
      "\n",
      "See the caveats in the documentation: https://pandas.pydata.org/pandas-docs/stable/user_guide/indexing.html#returning-a-view-versus-a-copy\n",
      "  df_2023['Unnamed: 0'] = df_2023['Unnamed: 0'].str[:4]\n"
     ]
    },
    {
     "data": {
      "text/html": [
       "<div>\n",
       "<style scoped>\n",
       "    .dataframe tbody tr th:only-of-type {\n",
       "        vertical-align: middle;\n",
       "    }\n",
       "\n",
       "    .dataframe tbody tr th {\n",
       "        vertical-align: top;\n",
       "    }\n",
       "\n",
       "    .dataframe thead th {\n",
       "        text-align: right;\n",
       "    }\n",
       "</style>\n",
       "<table border=\"1\" class=\"dataframe\">\n",
       "  <thead>\n",
       "    <tr style=\"text-align: right;\">\n",
       "      <th></th>\n",
       "      <th>Unnamed: 0</th>\n",
       "      <th>관광</th>\n",
       "      <th>상용</th>\n",
       "      <th>공용</th>\n",
       "      <th>유학연수</th>\n",
       "      <th>기타</th>\n",
       "      <th>전체</th>\n",
       "    </tr>\n",
       "  </thead>\n",
       "  <tbody>\n",
       "    <tr>\n",
       "      <th>96</th>\n",
       "      <td>2023</td>\n",
       "      <td>312847</td>\n",
       "      <td>7645</td>\n",
       "      <td>4145</td>\n",
       "      <td>13674</td>\n",
       "      <td>96118</td>\n",
       "      <td>434429</td>\n",
       "    </tr>\n",
       "    <tr>\n",
       "      <th>97</th>\n",
       "      <td>2023</td>\n",
       "      <td>319098</td>\n",
       "      <td>7383</td>\n",
       "      <td>3165</td>\n",
       "      <td>53111</td>\n",
       "      <td>96491</td>\n",
       "      <td>479248</td>\n",
       "    </tr>\n",
       "    <tr>\n",
       "      <th>98</th>\n",
       "      <td>2023</td>\n",
       "      <td>627681</td>\n",
       "      <td>10543</td>\n",
       "      <td>4719</td>\n",
       "      <td>30743</td>\n",
       "      <td>126889</td>\n",
       "      <td>800575</td>\n",
       "    </tr>\n",
       "  </tbody>\n",
       "</table>\n",
       "</div>"
      ],
      "text/plain": [
       "   Unnamed: 0      관광     상용    공용   유학연수      기타      전체\n",
       "96       2023  312847   7645  4145  13674   96118  434429\n",
       "97       2023  319098   7383  3165  53111   96491  479248\n",
       "98       2023  627681  10543  4719  30743  126889  800575"
      ]
     },
     "execution_count": 23,
     "metadata": {},
     "output_type": "execute_result"
    }
   ],
   "source": [
    "df_2023['Unnamed: 0'] = df_2023['Unnamed: 0'].str[:4]\n",
    "df_2023"
   ]
  },
  {
   "cell_type": "code",
   "execution_count": 24,
   "metadata": {},
   "outputs": [
    {
     "data": {
      "text/plain": [
       "관광      419875.333333\n",
       "상용        8523.666667\n",
       "공용        4009.666667\n",
       "유학연수     32509.333333\n",
       "기타      106499.333333\n",
       "전체      571417.333333\n",
       "Name: 2023, dtype: float64"
      ]
     },
     "execution_count": 24,
     "metadata": {},
     "output_type": "execute_result"
    }
   ],
   "source": [
    "df_2023 = df_2023.groupby('Unnamed: 0').mean()\n",
    "df_2023.iloc[0]"
   ]
  },
  {
   "cell_type": "code",
   "execution_count": 25,
   "metadata": {},
   "outputs": [
    {
     "data": {
      "text/html": [
       "<div>\n",
       "<style scoped>\n",
       "    .dataframe tbody tr th:only-of-type {\n",
       "        vertical-align: middle;\n",
       "    }\n",
       "\n",
       "    .dataframe tbody tr th {\n",
       "        vertical-align: top;\n",
       "    }\n",
       "\n",
       "    .dataframe thead th {\n",
       "        text-align: right;\n",
       "    }\n",
       "</style>\n",
       "<table border=\"1\" class=\"dataframe\">\n",
       "  <thead>\n",
       "    <tr style=\"text-align: right;\">\n",
       "      <th></th>\n",
       "      <th>관광</th>\n",
       "      <th>상용</th>\n",
       "      <th>공용</th>\n",
       "      <th>유학연수</th>\n",
       "      <th>기타</th>\n",
       "      <th>전체</th>\n",
       "    </tr>\n",
       "    <tr>\n",
       "      <th>Unnamed: 0</th>\n",
       "      <th></th>\n",
       "      <th></th>\n",
       "      <th></th>\n",
       "      <th></th>\n",
       "      <th></th>\n",
       "      <th></th>\n",
       "    </tr>\n",
       "  </thead>\n",
       "  <tbody>\n",
       "    <tr>\n",
       "      <th>201501</th>\n",
       "      <td>723255</td>\n",
       "      <td>17686</td>\n",
       "      <td>3094</td>\n",
       "      <td>7752</td>\n",
       "      <td>165267</td>\n",
       "      <td>917054</td>\n",
       "    </tr>\n",
       "    <tr>\n",
       "      <th>201502</th>\n",
       "      <td>815138</td>\n",
       "      <td>14354</td>\n",
       "      <td>2256</td>\n",
       "      <td>36399</td>\n",
       "      <td>182559</td>\n",
       "      <td>1050706</td>\n",
       "    </tr>\n",
       "    <tr>\n",
       "      <th>201503</th>\n",
       "      <td>958493</td>\n",
       "      <td>18549</td>\n",
       "      <td>3241</td>\n",
       "      <td>27129</td>\n",
       "      <td>230732</td>\n",
       "      <td>1238144</td>\n",
       "    </tr>\n",
       "    <tr>\n",
       "      <th>201504</th>\n",
       "      <td>1112904</td>\n",
       "      <td>17326</td>\n",
       "      <td>4913</td>\n",
       "      <td>5556</td>\n",
       "      <td>243868</td>\n",
       "      <td>1384567</td>\n",
       "    </tr>\n",
       "    <tr>\n",
       "      <th>201505</th>\n",
       "      <td>1060730</td>\n",
       "      <td>19010</td>\n",
       "      <td>4679</td>\n",
       "      <td>9222</td>\n",
       "      <td>240571</td>\n",
       "      <td>1334212</td>\n",
       "    </tr>\n",
       "    <tr>\n",
       "      <th>...</th>\n",
       "      <td>...</td>\n",
       "      <td>...</td>\n",
       "      <td>...</td>\n",
       "      <td>...</td>\n",
       "      <td>...</td>\n",
       "      <td>...</td>\n",
       "    </tr>\n",
       "    <tr>\n",
       "      <th>202211</th>\n",
       "      <td>341686</td>\n",
       "      <td>9855</td>\n",
       "      <td>4750</td>\n",
       "      <td>6313</td>\n",
       "      <td>97302</td>\n",
       "      <td>459906</td>\n",
       "    </tr>\n",
       "    <tr>\n",
       "      <th>202212</th>\n",
       "      <td>434305</td>\n",
       "      <td>6920</td>\n",
       "      <td>3702</td>\n",
       "      <td>9988</td>\n",
       "      <td>84358</td>\n",
       "      <td>539273</td>\n",
       "    </tr>\n",
       "    <tr>\n",
       "      <th>202301</th>\n",
       "      <td>312847</td>\n",
       "      <td>7645</td>\n",
       "      <td>4145</td>\n",
       "      <td>13674</td>\n",
       "      <td>96118</td>\n",
       "      <td>434429</td>\n",
       "    </tr>\n",
       "    <tr>\n",
       "      <th>202302</th>\n",
       "      <td>319098</td>\n",
       "      <td>7383</td>\n",
       "      <td>3165</td>\n",
       "      <td>53111</td>\n",
       "      <td>96491</td>\n",
       "      <td>479248</td>\n",
       "    </tr>\n",
       "    <tr>\n",
       "      <th>202303</th>\n",
       "      <td>627681</td>\n",
       "      <td>10543</td>\n",
       "      <td>4719</td>\n",
       "      <td>30743</td>\n",
       "      <td>126889</td>\n",
       "      <td>800575</td>\n",
       "    </tr>\n",
       "  </tbody>\n",
       "</table>\n",
       "<p>99 rows × 6 columns</p>\n",
       "</div>"
      ],
      "text/plain": [
       "                 관광     상용    공용   유학연수      기타       전체\n",
       "Unnamed: 0                                              \n",
       "201501       723255  17686  3094   7752  165267   917054\n",
       "201502       815138  14354  2256  36399  182559  1050706\n",
       "201503       958493  18549  3241  27129  230732  1238144\n",
       "201504      1112904  17326  4913   5556  243868  1384567\n",
       "201505      1060730  19010  4679   9222  240571  1334212\n",
       "...             ...    ...   ...    ...     ...      ...\n",
       "202211       341686   9855  4750   6313   97302   459906\n",
       "202212       434305   6920  3702   9988   84358   539273\n",
       "202301       312847   7645  4145  13674   96118   434429\n",
       "202302       319098   7383  3165  53111   96491   479248\n",
       "202303       627681  10543  4719  30743  126889   800575\n",
       "\n",
       "[99 rows x 6 columns]"
      ]
     },
     "execution_count": 25,
     "metadata": {},
     "output_type": "execute_result"
    }
   ],
   "source": [
    "new_data = new_data.set_index('Unnamed: 0')\n",
    "new_data"
   ]
  },
  {
   "cell_type": "code",
   "execution_count": 26,
   "metadata": {},
   "outputs": [
    {
     "data": {
      "text/plain": [
       "['04', '05', '06', '07', '08', '09', '10', '11', '12']"
      ]
     },
     "execution_count": 26,
     "metadata": {},
     "output_type": "execute_result"
    }
   ],
   "source": [
    "l = []\n",
    "for i in range(9):\n",
    "    l.append(str((i+4)).zfill(2))\n",
    "l"
   ]
  },
  {
   "cell_type": "code",
   "execution_count": 27,
   "metadata": {},
   "outputs": [],
   "source": [
    "#new_data.loc['202304'] = df_2023.iloc[0]"
   ]
  },
  {
   "cell_type": "code",
   "execution_count": 28,
   "metadata": {},
   "outputs": [],
   "source": [
    "for i in range(9):\n",
    "    new_data.loc['2023'+l[i]] = df_2023.iloc[0]"
   ]
  },
  {
   "cell_type": "code",
   "execution_count": 29,
   "metadata": {},
   "outputs": [
    {
     "data": {
      "text/html": [
       "<div>\n",
       "<style scoped>\n",
       "    .dataframe tbody tr th:only-of-type {\n",
       "        vertical-align: middle;\n",
       "    }\n",
       "\n",
       "    .dataframe tbody tr th {\n",
       "        vertical-align: top;\n",
       "    }\n",
       "\n",
       "    .dataframe thead th {\n",
       "        text-align: right;\n",
       "    }\n",
       "</style>\n",
       "<table border=\"1\" class=\"dataframe\">\n",
       "  <thead>\n",
       "    <tr style=\"text-align: right;\">\n",
       "      <th></th>\n",
       "      <th>Unnamed: 0</th>\n",
       "      <th>관광</th>\n",
       "      <th>상용</th>\n",
       "      <th>공용</th>\n",
       "      <th>유학연수</th>\n",
       "      <th>기타</th>\n",
       "      <th>전체</th>\n",
       "    </tr>\n",
       "  </thead>\n",
       "  <tbody>\n",
       "    <tr>\n",
       "      <th>0</th>\n",
       "      <td>201501</td>\n",
       "      <td>7.232550e+05</td>\n",
       "      <td>17686.000000</td>\n",
       "      <td>3094.000000</td>\n",
       "      <td>7752.000000</td>\n",
       "      <td>165267.000000</td>\n",
       "      <td>9.170540e+05</td>\n",
       "    </tr>\n",
       "    <tr>\n",
       "      <th>1</th>\n",
       "      <td>201502</td>\n",
       "      <td>8.151380e+05</td>\n",
       "      <td>14354.000000</td>\n",
       "      <td>2256.000000</td>\n",
       "      <td>36399.000000</td>\n",
       "      <td>182559.000000</td>\n",
       "      <td>1.050706e+06</td>\n",
       "    </tr>\n",
       "    <tr>\n",
       "      <th>2</th>\n",
       "      <td>201503</td>\n",
       "      <td>9.584930e+05</td>\n",
       "      <td>18549.000000</td>\n",
       "      <td>3241.000000</td>\n",
       "      <td>27129.000000</td>\n",
       "      <td>230732.000000</td>\n",
       "      <td>1.238144e+06</td>\n",
       "    </tr>\n",
       "    <tr>\n",
       "      <th>3</th>\n",
       "      <td>201504</td>\n",
       "      <td>1.112904e+06</td>\n",
       "      <td>17326.000000</td>\n",
       "      <td>4913.000000</td>\n",
       "      <td>5556.000000</td>\n",
       "      <td>243868.000000</td>\n",
       "      <td>1.384567e+06</td>\n",
       "    </tr>\n",
       "    <tr>\n",
       "      <th>4</th>\n",
       "      <td>201505</td>\n",
       "      <td>1.060730e+06</td>\n",
       "      <td>19010.000000</td>\n",
       "      <td>4679.000000</td>\n",
       "      <td>9222.000000</td>\n",
       "      <td>240571.000000</td>\n",
       "      <td>1.334212e+06</td>\n",
       "    </tr>\n",
       "    <tr>\n",
       "      <th>...</th>\n",
       "      <td>...</td>\n",
       "      <td>...</td>\n",
       "      <td>...</td>\n",
       "      <td>...</td>\n",
       "      <td>...</td>\n",
       "      <td>...</td>\n",
       "      <td>...</td>\n",
       "    </tr>\n",
       "    <tr>\n",
       "      <th>103</th>\n",
       "      <td>202308</td>\n",
       "      <td>4.198753e+05</td>\n",
       "      <td>8523.666667</td>\n",
       "      <td>4009.666667</td>\n",
       "      <td>32509.333333</td>\n",
       "      <td>106499.333333</td>\n",
       "      <td>5.714173e+05</td>\n",
       "    </tr>\n",
       "    <tr>\n",
       "      <th>104</th>\n",
       "      <td>202309</td>\n",
       "      <td>4.198753e+05</td>\n",
       "      <td>8523.666667</td>\n",
       "      <td>4009.666667</td>\n",
       "      <td>32509.333333</td>\n",
       "      <td>106499.333333</td>\n",
       "      <td>5.714173e+05</td>\n",
       "    </tr>\n",
       "    <tr>\n",
       "      <th>105</th>\n",
       "      <td>202310</td>\n",
       "      <td>4.198753e+05</td>\n",
       "      <td>8523.666667</td>\n",
       "      <td>4009.666667</td>\n",
       "      <td>32509.333333</td>\n",
       "      <td>106499.333333</td>\n",
       "      <td>5.714173e+05</td>\n",
       "    </tr>\n",
       "    <tr>\n",
       "      <th>106</th>\n",
       "      <td>202311</td>\n",
       "      <td>4.198753e+05</td>\n",
       "      <td>8523.666667</td>\n",
       "      <td>4009.666667</td>\n",
       "      <td>32509.333333</td>\n",
       "      <td>106499.333333</td>\n",
       "      <td>5.714173e+05</td>\n",
       "    </tr>\n",
       "    <tr>\n",
       "      <th>107</th>\n",
       "      <td>202312</td>\n",
       "      <td>4.198753e+05</td>\n",
       "      <td>8523.666667</td>\n",
       "      <td>4009.666667</td>\n",
       "      <td>32509.333333</td>\n",
       "      <td>106499.333333</td>\n",
       "      <td>5.714173e+05</td>\n",
       "    </tr>\n",
       "  </tbody>\n",
       "</table>\n",
       "<p>108 rows × 7 columns</p>\n",
       "</div>"
      ],
      "text/plain": [
       "    Unnamed: 0            관광            상용           공용          유학연수  \\\n",
       "0       201501  7.232550e+05  17686.000000  3094.000000   7752.000000   \n",
       "1       201502  8.151380e+05  14354.000000  2256.000000  36399.000000   \n",
       "2       201503  9.584930e+05  18549.000000  3241.000000  27129.000000   \n",
       "3       201504  1.112904e+06  17326.000000  4913.000000   5556.000000   \n",
       "4       201505  1.060730e+06  19010.000000  4679.000000   9222.000000   \n",
       "..         ...           ...           ...          ...           ...   \n",
       "103     202308  4.198753e+05   8523.666667  4009.666667  32509.333333   \n",
       "104     202309  4.198753e+05   8523.666667  4009.666667  32509.333333   \n",
       "105     202310  4.198753e+05   8523.666667  4009.666667  32509.333333   \n",
       "106     202311  4.198753e+05   8523.666667  4009.666667  32509.333333   \n",
       "107     202312  4.198753e+05   8523.666667  4009.666667  32509.333333   \n",
       "\n",
       "                기타            전체  \n",
       "0    165267.000000  9.170540e+05  \n",
       "1    182559.000000  1.050706e+06  \n",
       "2    230732.000000  1.238144e+06  \n",
       "3    243868.000000  1.384567e+06  \n",
       "4    240571.000000  1.334212e+06  \n",
       "..             ...           ...  \n",
       "103  106499.333333  5.714173e+05  \n",
       "104  106499.333333  5.714173e+05  \n",
       "105  106499.333333  5.714173e+05  \n",
       "106  106499.333333  5.714173e+05  \n",
       "107  106499.333333  5.714173e+05  \n",
       "\n",
       "[108 rows x 7 columns]"
      ]
     },
     "execution_count": 29,
     "metadata": {},
     "output_type": "execute_result"
    }
   ],
   "source": [
    "new_data = new_data.reset_index()\n",
    "new_data"
   ]
  },
  {
   "cell_type": "code",
   "execution_count": 30,
   "metadata": {},
   "outputs": [
    {
     "data": {
      "text/plain": [
       "0      2015\n",
       "1      2015\n",
       "2      2015\n",
       "3      2015\n",
       "4      2015\n",
       "       ... \n",
       "103    2023\n",
       "104    2023\n",
       "105    2023\n",
       "106    2023\n",
       "107    2023\n",
       "Name: 년도, Length: 108, dtype: object"
      ]
     },
     "execution_count": 30,
     "metadata": {},
     "output_type": "execute_result"
    }
   ],
   "source": [
    "new_data['년도'] = new_data['Unnamed: 0'].str[:4]\n",
    "new_data['년도']"
   ]
  },
  {
   "cell_type": "code",
   "execution_count": 31,
   "metadata": {},
   "outputs": [],
   "source": [
    "new_data = new_data.groupby('년도').sum()"
   ]
  },
  {
   "cell_type": "code",
   "execution_count": 32,
   "metadata": {},
   "outputs": [],
   "source": [
    "new_data.loc['전체'] = new_data.sum()"
   ]
  },
  {
   "cell_type": "code",
   "execution_count": 33,
   "metadata": {},
   "outputs": [
    {
     "data": {
      "text/html": [
       "<div>\n",
       "<style scoped>\n",
       "    .dataframe tbody tr th:only-of-type {\n",
       "        vertical-align: middle;\n",
       "    }\n",
       "\n",
       "    .dataframe tbody tr th {\n",
       "        vertical-align: top;\n",
       "    }\n",
       "\n",
       "    .dataframe thead th {\n",
       "        text-align: right;\n",
       "    }\n",
       "</style>\n",
       "<table border=\"1\" class=\"dataframe\">\n",
       "  <thead>\n",
       "    <tr style=\"text-align: right;\">\n",
       "      <th></th>\n",
       "      <th>관광</th>\n",
       "      <th>상용</th>\n",
       "      <th>공용</th>\n",
       "      <th>유학연수</th>\n",
       "      <th>기타</th>\n",
       "      <th>전체</th>\n",
       "    </tr>\n",
       "    <tr>\n",
       "      <th>년도</th>\n",
       "      <th></th>\n",
       "      <th></th>\n",
       "      <th></th>\n",
       "      <th></th>\n",
       "      <th></th>\n",
       "      <th></th>\n",
       "    </tr>\n",
       "  </thead>\n",
       "  <tbody>\n",
       "    <tr>\n",
       "      <th>2015</th>\n",
       "      <td>10135489.0</td>\n",
       "      <td>195325.0</td>\n",
       "      <td>48269.0</td>\n",
       "      <td>202708.0</td>\n",
       "      <td>2649860.0</td>\n",
       "      <td>13231651.0</td>\n",
       "    </tr>\n",
       "    <tr>\n",
       "      <th>2016</th>\n",
       "      <td>13932925.0</td>\n",
       "      <td>187507.0</td>\n",
       "      <td>51467.0</td>\n",
       "      <td>250716.0</td>\n",
       "      <td>2819208.0</td>\n",
       "      <td>17241823.0</td>\n",
       "    </tr>\n",
       "    <tr>\n",
       "      <th>2017</th>\n",
       "      <td>10415594.0</td>\n",
       "      <td>177071.0</td>\n",
       "      <td>54890.0</td>\n",
       "      <td>302652.0</td>\n",
       "      <td>2385551.0</td>\n",
       "      <td>13335758.0</td>\n",
       "    </tr>\n",
       "    <tr>\n",
       "      <th>2018</th>\n",
       "      <td>12414348.0</td>\n",
       "      <td>175547.0</td>\n",
       "      <td>61017.0</td>\n",
       "      <td>332011.0</td>\n",
       "      <td>2363956.0</td>\n",
       "      <td>15346879.0</td>\n",
       "    </tr>\n",
       "    <tr>\n",
       "      <th>2019</th>\n",
       "      <td>14432275.0</td>\n",
       "      <td>178445.0</td>\n",
       "      <td>74210.0</td>\n",
       "      <td>375661.0</td>\n",
       "      <td>2442165.0</td>\n",
       "      <td>17502756.0</td>\n",
       "    </tr>\n",
       "    <tr>\n",
       "      <th>2020</th>\n",
       "      <td>1653471.0</td>\n",
       "      <td>29509.0</td>\n",
       "      <td>16571.0</td>\n",
       "      <td>118462.0</td>\n",
       "      <td>701105.0</td>\n",
       "      <td>2519118.0</td>\n",
       "    </tr>\n",
       "    <tr>\n",
       "      <th>2021</th>\n",
       "      <td>211846.0</td>\n",
       "      <td>21290.0</td>\n",
       "      <td>18685.0</td>\n",
       "      <td>80084.0</td>\n",
       "      <td>635098.0</td>\n",
       "      <td>967003.0</td>\n",
       "    </tr>\n",
       "    <tr>\n",
       "      <th>2022</th>\n",
       "      <td>1998937.0</td>\n",
       "      <td>72170.0</td>\n",
       "      <td>35692.0</td>\n",
       "      <td>152195.0</td>\n",
       "      <td>939023.0</td>\n",
       "      <td>3198017.0</td>\n",
       "    </tr>\n",
       "    <tr>\n",
       "      <th>2023</th>\n",
       "      <td>5038504.0</td>\n",
       "      <td>102284.0</td>\n",
       "      <td>48116.0</td>\n",
       "      <td>390112.0</td>\n",
       "      <td>1277992.0</td>\n",
       "      <td>6857008.0</td>\n",
       "    </tr>\n",
       "    <tr>\n",
       "      <th>전체</th>\n",
       "      <td>70233389.0</td>\n",
       "      <td>1139148.0</td>\n",
       "      <td>408917.0</td>\n",
       "      <td>2204601.0</td>\n",
       "      <td>16213958.0</td>\n",
       "      <td>90200013.0</td>\n",
       "    </tr>\n",
       "  </tbody>\n",
       "</table>\n",
       "</div>"
      ],
      "text/plain": [
       "              관광         상용        공용       유학연수          기타          전체\n",
       "년도                                                                      \n",
       "2015  10135489.0   195325.0   48269.0   202708.0   2649860.0  13231651.0\n",
       "2016  13932925.0   187507.0   51467.0   250716.0   2819208.0  17241823.0\n",
       "2017  10415594.0   177071.0   54890.0   302652.0   2385551.0  13335758.0\n",
       "2018  12414348.0   175547.0   61017.0   332011.0   2363956.0  15346879.0\n",
       "2019  14432275.0   178445.0   74210.0   375661.0   2442165.0  17502756.0\n",
       "2020   1653471.0    29509.0   16571.0   118462.0    701105.0   2519118.0\n",
       "2021    211846.0    21290.0   18685.0    80084.0    635098.0    967003.0\n",
       "2022   1998937.0    72170.0   35692.0   152195.0    939023.0   3198017.0\n",
       "2023   5038504.0   102284.0   48116.0   390112.0   1277992.0   6857008.0\n",
       "전체    70233389.0  1139148.0  408917.0  2204601.0  16213958.0  90200013.0"
      ]
     },
     "execution_count": 33,
     "metadata": {},
     "output_type": "execute_result"
    }
   ],
   "source": [
    "new_data"
   ]
  },
  {
   "cell_type": "markdown",
   "metadata": {},
   "source": [
    "#### 2-2. 2-1번에서 구한 결과를 활용하여  \"관광\", \"상용\", \"공용\", \"유학연수\", \"기타\", \"전체\" 컬럼의 년도별 입국자수를 시각화 하시오. \n",
    "#### 전체 컬럼 수인 총 6개의 시각화 그림이 출력되도록 하시오. \n"
   ]
  },
  {
   "cell_type": "code",
   "execution_count": 34,
   "metadata": {
    "scrolled": false
   },
   "outputs": [
    {
     "data": {
      "image/png": "[encoded data removed]",
      "text/plain": [
       "<Figure size 1000x400 with 1 Axes>"
      ]
     },
     "metadata": {},
     "output_type": "display_data"
    },
    {
     "data": {
      "image/png": "[encoded data removed]",
      "text/plain": [
       "<Figure size 1000x400 with 1 Axes>"
      ]
     },
     "metadata": {},
     "output_type": "display_data"
    },
    {
     "data": {
      "image/png": "[encoded data removed]",
      "text/plain": [
       "<Figure size 1000x400 with 1 Axes>"
      ]
     },
     "metadata": {},
     "output_type": "display_data"
    },
    {
     "data": {
      "image/png": "[encoded data removed]",
      "text/plain": [
       "<Figure size 1000x400 with 1 Axes>"
      ]
     },
     "metadata": {},
     "output_type": "display_data"
    },
    {
     "data": {
      "image/png": "[encoded data removed]",
      "text/plain": [
       "<Figure size 1000x400 with 1 Axes>"
      ]
     },
     "metadata": {},
     "output_type": "display_data"
    },
    {
     "data": {
      "image/png": "[encoded data removed]",
      "text/plain": [
       "<Figure size 1000x400 with 1 Axes>"
      ]
     },
     "metadata": {},
     "output_type": "display_data"
    }
   ],
   "source": [
    "l = new_data.columns\n",
    "for i in l:\n",
    "    plt.figure(figsize=(10, 4))\n",
    "    new_data[i].plot.bar(), plt.title('{} 수'.format(i))"
   ]
  },
  {
   "cell_type": "code",
   "execution_count": null,
   "metadata": {},
   "outputs": [],
   "source": []
  },
  {
   "cell_type": "code",
   "execution_count": null,
   "metadata": {},
   "outputs": [],
   "source": []
  },
  {
   "cell_type": "markdown",
   "metadata": {},
   "source": [
    "#### 2-3. 2020- 2022년도는 코로나로 인하여 입국자수가 급감한것을 확인할 수있다. 2015년 1월에서 2023년 3월까지 월별 전체 입국자수를 시각화 하고, 코로나 시작시점을 화살표, text 등 각자 사용한 가능한 시각화 tool을 이용하여 표시하고 결과를 제시하시오.  "
   ]
  },
  {
   "cell_type": "code",
   "execution_count": 35,
   "metadata": {},
   "outputs": [],
   "source": [
    "df = df.set_index('Unnamed: 0')"
   ]
  },
  {
   "cell_type": "code",
   "execution_count": 36,
   "metadata": {},
   "outputs": [],
   "source": [
    "#corona = df[df.index.str.contains('2020|2022')].index"
   ]
  },
  {
   "cell_type": "code",
   "execution_count": 37,
   "metadata": {},
   "outputs": [],
   "source": [
    "#corona_data = df[df.index.str.contains('2020|2022')]"
   ]
  },
  {
   "cell_type": "code",
   "execution_count": 38,
   "metadata": {
    "scrolled": false
   },
   "outputs": [
    {
     "data": {
      "text/plain": [
       "([<matplotlib.axis.XTick at 0x1b2f31568b0>,\n",
       "  <matplotlib.axis.XTick at 0x1b2f3156880>,\n",
       "  <matplotlib.axis.XTick at 0x1b2f3149f10>,\n",
       "  <matplotlib.axis.XTick at 0x1b2f2f1a040>,\n",
       "  <matplotlib.axis.XTick at 0x1b2f2f0df40>,\n",
       "  <matplotlib.axis.XTick at 0x1b2f2f1aa60>,\n",
       "  <matplotlib.axis.XTick at 0x1b2f2f201f0>,\n",
       "  <matplotlib.axis.XTick at 0x1b2f2f20940>,\n",
       "  <matplotlib.axis.XTick at 0x1b2f2f250d0>],\n",
       " [Text(0, 0, ''),\n",
       "  Text(0, 0, ''),\n",
       "  Text(0, 0, ''),\n",
       "  Text(0, 0, ''),\n",
       "  Text(0, 0, ''),\n",
       "  Text(0, 0, ''),\n",
       "  Text(0, 0, ''),\n",
       "  Text(0, 0, ''),\n",
       "  Text(0, 0, '')])"
      ]
     },
     "execution_count": 38,
     "metadata": {},
     "output_type": "execute_result"
    },
    {
     "data": {
      "image/png": "[encoded data removed]",
      "text/plain": [
       "<Figure size 640x480 with 1 Axes>"
      ]
     },
     "metadata": {},
     "output_type": "display_data"
    }
   ],
   "source": [
    "l = ['201501','201601','201701','201801','201901','202001','202101','202201','202301']\n",
    "color = ['r' if '2020' in date or '2021' in date or '2022' in date else 'b' for date in df[:-1].index]\n",
    "plt.bar(df[:-1].index, df[:-1].전체, color = color)\n",
    "plt.xticks(l)\n",
    "\n"
   ]
  },
  {
   "cell_type": "code",
   "execution_count": 39,
   "metadata": {},
   "outputs": [
    {
     "data": {
      "text/plain": [
       "1104803"
      ]
     },
     "execution_count": 39,
     "metadata": {},
     "output_type": "execute_result"
    }
   ],
   "source": [
    "df[:-1].loc['201901'].전체"
   ]
  },
  {
   "cell_type": "code",
   "execution_count": 40,
   "metadata": {},
   "outputs": [
    {
     "data": {
      "text/plain": [
       "Text(98, 1104803.05, '코로나 시작시점')"
      ]
     },
     "execution_count": 40,
     "metadata": {},
     "output_type": "execute_result"
    },
    {
     "data": {
      "image/png": "[encoded data removed]",
      "text/plain": [
       "<Figure size 640x480 with 1 Axes>"
      ]
     },
     "metadata": {},
     "output_type": "display_data"
    }
   ],
   "source": [
    "l = ['201501','201601','201701','201801','201901','202001','202101','202201','202301']\n",
    "color = ['r' if '201901' in date else 'b' for date in df[:-1].index]\n",
    "plt.bar(df[:-1].index, df[:-1].전체, color = color)\n",
    "plt.xticks(l)\n",
    "plt.annotate(('코로나 시작시점'),\n",
    "             xy=(df[:-1].index.tolist().index('201901'),\n",
    "                 df[:-1].loc['201901'].전체),\n",
    "             xytext=(df[:-1].index.tolist().index('201901') + 50, df[:-1].loc['201901'].전체 + 0.05),\n",
    "             arrowprops=dict(facecolor='red', shrink=0.05))"
   ]
  },
  {
   "cell_type": "code",
   "execution_count": null,
   "metadata": {},
   "outputs": [],
   "source": []
  },
  {
   "cell_type": "code",
   "execution_count": null,
   "metadata": {},
   "outputs": [],
   "source": []
  },
  {
   "cell_type": "code",
   "execution_count": null,
   "metadata": {},
   "outputs": [],
   "source": []
  },
  {
   "cell_type": "code",
   "execution_count": null,
   "metadata": {},
   "outputs": [],
   "source": []
  },
  {
   "cell_type": "code",
   "execution_count": null,
   "metadata": {},
   "outputs": [],
   "source": []
  },
  {
   "cell_type": "code",
   "execution_count": null,
   "metadata": {},
   "outputs": [],
   "source": []
  },
  {
   "cell_type": "code",
   "execution_count": null,
   "metadata": {
    "scrolled": false
   },
   "outputs": [],
   "source": []
  },
  {
   "cell_type": "code",
   "execution_count": null,
   "metadata": {},
   "outputs": [],
   "source": []
  }
 ],
 "metadata": {
  "kernelspec": {
   "display_name": "Python 3 (ipykernel)",
   "language": "python",
   "name": "python3"
  },
  "language_info": {
   "codemirror_mode": {
    "name": "ipython",
    "version": 3
   },
   "file_extension": ".py",
   "mimetype": "text/x-python",
   "name": "python",
   "nbconvert_exporter": "python",
   "pygments_lexer": "ipython3",
   "version": "3.9.13"
  },
  "toc": {
   "base_numbering": 1,
   "nav_menu": {},
   "number_sections": true,
   "sideBar": true,
   "skip_h1_title": false,
   "title_cell": "Table of Contents",
   "title_sidebar": "Contents",
   "toc_cell": false,
   "toc_position": {},
   "toc_section_display": true,
   "toc_window_display": false
  },
  "varInspector": {
   "cols": {
    "lenName": 16,
    "lenType": 16,
    "lenVar": 40
   },
   "kernels_config": {
    "python": {
     "delete_cmd_postfix": "",
     "delete_cmd_prefix": "del ",
     "library": "var_list.py",
     "varRefreshCmd": "print(var_dic_list())"
    },
    "r": {
     "delete_cmd_postfix": ") ",
     "delete_cmd_prefix": "rm(",
     "library": "var_list.r",
     "varRefreshCmd": "cat(var_dic_list()) "
    }
   },
   "types_to_exclude": [
    "module",
    "function",
    "builtin_function_or_method",
    "instance",
    "_Feature"
   ],
   "window_display": false
  }
 },
 "nbformat": 4,
 "nbformat_minor": 4
}

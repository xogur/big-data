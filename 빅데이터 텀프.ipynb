{
 "cells": [
  {
   "cell_type": "code",
   "execution_count": 1,
   "id": "b67c9bcb",
   "metadata": {},
   "outputs": [
    {
     "data": {
      "application/vnd.jupyter.widget-view+json": {
       "model_id": "fb4dddc20a8f409aa800d50fa33643e4",
       "version_major": 2,
       "version_minor": 0
      },
      "text/plain": [
       "Dropdown(description='카테고리:', options=('소매', '음식', '보건의료', '교육', '수리·개인', '예술·스포츠', '시설관리·임대', '부동산', '과학·기술',…"
      ]
     },
     "metadata": {},
     "output_type": "display_data"
    },
    {
     "data": {
      "application/vnd.jupyter.widget-view+json": {
       "model_id": "7ba11779c7634ab7ab4d33906cb6146d",
       "version_major": 2,
       "version_minor": 0
      },
      "text/plain": [
       "Text(value='', description='키워드:')"
      ]
     },
     "metadata": {},
     "output_type": "display_data"
    },
    {
     "data": {
      "application/vnd.jupyter.widget-view+json": {
       "model_id": "c2ac009c268b40d49802900e4364e037",
       "version_major": 2,
       "version_minor": 0
      },
      "text/plain": [
       "Button(button_style='success', description='확인', icon='check', style=ButtonStyle(), tooltip='클릭하여 지도를 업데이트')"
      ]
     },
     "metadata": {},
     "output_type": "display_data"
    },
    {
     "data": {
      "text/html": [
       "\n",
       "        <iframe\n",
       "            width=\"800\"\n",
       "            height=\"600\"\n",
       "            src=\"interactive_map.html\"\n",
       "            frameborder=\"0\"\n",
       "            allowfullscreen\n",
       "            \n",
       "        ></iframe>\n",
       "        "
      ],
      "text/plain": [
       "<IPython.lib.display.IFrame at 0x22c0981dc10>"
      ]
     },
     "metadata": {},
     "output_type": "display_data"
    }
   ],
   "source": [
    "import pandas as pd\n",
    "from sklearn.cluster import KMeans\n",
    "import folium\n",
    "from folium.plugins import MarkerCluster\n",
    "import ipywidgets as widgets\n",
    "from IPython.display import display, IFrame\n",
    "import os\n",
    "\n",
    "# 데이터 로드\n",
    "file_path = '소상공인시장진흥공단_상가(상권)정보_경남_202312.csv'\n",
    "data = pd.read_csv(file_path, encoding='utf8')\n",
    "\n",
    "# 필요한 열 선택 (예: 상호명, 지번주소, 위도, 경도, 업종 대분류명)\n",
    "data = data[['상호명', '지번주소', '위도', '경도', '상권업종대분류명']]\n",
    "\n",
    "# 위젯 생성\n",
    "categories = data['상권업종대분류명'].unique().tolist()\n",
    "category_widget = widgets.Dropdown(\n",
    "    options=categories,\n",
    "    value=categories[0],\n",
    "    description='카테고리:',\n",
    ")\n",
    "\n",
    "keyword_widget = widgets.Text(\n",
    "    value='',\n",
    "    description='키워드:',\n",
    ")\n",
    "\n",
    "button = widgets.Button(\n",
    "    description='확인',\n",
    "    button_style='success',  # 'success', 'info', 'warning', 'danger' 또는 ''\n",
    "    tooltip='클릭하여 지도를 업데이트',\n",
    "    icon='check'\n",
    ")\n",
    "\n",
    "# 지도 생성 및 업데이트 함수\n",
    "def update_map(category, keyword):\n",
    "    filtered_data = data[(data['상권업종대분류명'] == category) & (data['상호명'].str.contains(keyword))].copy()\n",
    "    \n",
    "    # 지도 생성 (경남 지역 중심 좌표 설정, 예: 창원)\n",
    "    map_center = [35.2271, 128.6812]\n",
    "    m = folium.Map(location=map_center, zoom_start=13)\n",
    "    \n",
    "    # K-Means 군집화\n",
    "    coords = filtered_data[['위도', '경도']]\n",
    "    kmeans = KMeans(n_clusters=5, random_state=42, n_init=10)\n",
    "    kmeans.fit(coords)\n",
    "    filtered_data['cluster'] = kmeans.labels_\n",
    "\n",
    "    marker_cluster = MarkerCluster().add_to(m)\n",
    "    for idx, row in filtered_data.iterrows():\n",
    "        folium.Marker(\n",
    "            location=[row['위도'], row['경도']],\n",
    "            popup=row['상호명'],\n",
    "            icon=folium.Icon(color='red' if row['cluster'] == 0 else 'blue')\n",
    "        ).add_to(marker_cluster)\n",
    "        \n",
    "    # 지도를 HTML 파일로 저장 및 표시\n",
    "    output_file = \"interactive_map.html\"\n",
    "    m.save(output_file)\n",
    "    display(IFrame(output_file, width=800, height=600))\n",
    "\n",
    "def on_button_click(b):\n",
    "    update_map(category_widget.value, keyword_widget.value)\n",
    "\n",
    "button.on_click(on_button_click)\n",
    "\n",
    "# 위젯 디스플레이\n",
    "display(category_widget, keyword_widget, button)\n",
    "\n",
    "update_map(categories[0], '')"
   ]
  },
  {
   "cell_type": "code",
   "execution_count": 6,
   "id": "67e972f8",
   "metadata": {},
   "outputs": [
    {
     "data": {
      "application/vnd.jupyter.widget-view+json": {
       "model_id": "d4b7917d968a4033ac0a387356c7ba93",
       "version_major": 2,
       "version_minor": 0
      },
      "text/plain": [
       "Dropdown(description='카테고리:', options=('소매', '음식', '보건의료', '교육', '수리·개인', '예술·스포츠', '시설관리·임대', '부동산', '과학·기술',…"
      ]
     },
     "metadata": {},
     "output_type": "display_data"
    },
    {
     "data": {
      "application/vnd.jupyter.widget-view+json": {
       "model_id": "27f21736fc7149c5a969e9cd3c8b0cad",
       "version_major": 2,
       "version_minor": 0
      },
      "text/plain": [
       "Text(value='', description='키워드:')"
      ]
     },
     "metadata": {},
     "output_type": "display_data"
    },
    {
     "data": {
      "application/vnd.jupyter.widget-view+json": {
       "model_id": "c2e2de60619b4756830fc63333bd2e72",
       "version_major": 2,
       "version_minor": 0
      },
      "text/plain": [
       "Button(button_style='success', description='확인', icon='check', style=ButtonStyle(), tooltip='클릭하여 지도를 업데이트')"
      ]
     },
     "metadata": {},
     "output_type": "display_data"
    },
    {
     "data": {
      "text/html": [
       "\n",
       "        <iframe\n",
       "            width=\"800\"\n",
       "            height=\"600\"\n",
       "            src=\"interactive_map.html\"\n",
       "            frameborder=\"0\"\n",
       "            allowfullscreen\n",
       "            \n",
       "        ></iframe>\n",
       "        "
      ],
      "text/plain": [
       "<IPython.lib.display.IFrame at 0x1f722019490>"
      ]
     },
     "metadata": {},
     "output_type": "display_data"
    },
    {
     "ename": "ValueError",
     "evalue": "Found array with 0 sample(s) (shape=(0, 2)) while a minimum of 1 is required.",
     "output_type": "error",
     "traceback": [
      "\u001b[1;31m---------------------------------------------------------------------------\u001b[0m",
      "\u001b[1;31mValueError\u001b[0m                                Traceback (most recent call last)",
      "\u001b[1;32m~\\AppData\\Local\\Temp\\ipykernel_23016\\2453147666.py\u001b[0m in \u001b[0;36mon_button_click\u001b[1;34m(b)\u001b[0m\n\u001b[0;32m     62\u001b[0m \u001b[1;33m\u001b[0m\u001b[0m\n\u001b[0;32m     63\u001b[0m \u001b[1;32mdef\u001b[0m \u001b[0mon_button_click\u001b[0m\u001b[1;33m(\u001b[0m\u001b[0mb\u001b[0m\u001b[1;33m)\u001b[0m\u001b[1;33m:\u001b[0m\u001b[1;33m\u001b[0m\u001b[1;33m\u001b[0m\u001b[0m\n\u001b[1;32m---> 64\u001b[1;33m     \u001b[0mupdate_map\u001b[0m\u001b[1;33m(\u001b[0m\u001b[0mcategory_widget\u001b[0m\u001b[1;33m.\u001b[0m\u001b[0mvalue\u001b[0m\u001b[1;33m,\u001b[0m \u001b[0mkeyword_widget\u001b[0m\u001b[1;33m.\u001b[0m\u001b[0mvalue\u001b[0m\u001b[1;33m)\u001b[0m\u001b[1;33m\u001b[0m\u001b[1;33m\u001b[0m\u001b[0m\n\u001b[0m\u001b[0;32m     65\u001b[0m \u001b[1;33m\u001b[0m\u001b[0m\n\u001b[0;32m     66\u001b[0m \u001b[0mbutton\u001b[0m\u001b[1;33m.\u001b[0m\u001b[0mon_click\u001b[0m\u001b[1;33m(\u001b[0m\u001b[0mon_button_click\u001b[0m\u001b[1;33m)\u001b[0m\u001b[1;33m\u001b[0m\u001b[1;33m\u001b[0m\u001b[0m\n",
      "\u001b[1;32m~\\AppData\\Local\\Temp\\ipykernel_23016\\2453147666.py\u001b[0m in \u001b[0;36mupdate_map\u001b[1;34m(category, keyword)\u001b[0m\n\u001b[0;32m     44\u001b[0m     \u001b[0mcoords\u001b[0m \u001b[1;33m=\u001b[0m \u001b[0mfiltered_data\u001b[0m\u001b[1;33m[\u001b[0m\u001b[1;33m[\u001b[0m\u001b[1;34m'위도'\u001b[0m\u001b[1;33m,\u001b[0m \u001b[1;34m'경도'\u001b[0m\u001b[1;33m]\u001b[0m\u001b[1;33m]\u001b[0m\u001b[1;33m\u001b[0m\u001b[1;33m\u001b[0m\u001b[0m\n\u001b[0;32m     45\u001b[0m     \u001b[0mkmeans\u001b[0m \u001b[1;33m=\u001b[0m \u001b[0mKMeans\u001b[0m\u001b[1;33m(\u001b[0m\u001b[0mn_clusters\u001b[0m\u001b[1;33m=\u001b[0m\u001b[1;36m5\u001b[0m\u001b[1;33m,\u001b[0m \u001b[0mrandom_state\u001b[0m\u001b[1;33m=\u001b[0m\u001b[1;36m42\u001b[0m\u001b[1;33m,\u001b[0m \u001b[0mn_init\u001b[0m\u001b[1;33m=\u001b[0m\u001b[1;36m10\u001b[0m\u001b[1;33m)\u001b[0m\u001b[1;33m\u001b[0m\u001b[1;33m\u001b[0m\u001b[0m\n\u001b[1;32m---> 46\u001b[1;33m     \u001b[0mkmeans\u001b[0m\u001b[1;33m.\u001b[0m\u001b[0mfit\u001b[0m\u001b[1;33m(\u001b[0m\u001b[0mcoords\u001b[0m\u001b[1;33m)\u001b[0m\u001b[1;33m\u001b[0m\u001b[1;33m\u001b[0m\u001b[0m\n\u001b[0m\u001b[0;32m     47\u001b[0m     \u001b[0mfiltered_data\u001b[0m\u001b[1;33m[\u001b[0m\u001b[1;34m'cluster'\u001b[0m\u001b[1;33m]\u001b[0m \u001b[1;33m=\u001b[0m \u001b[0mkmeans\u001b[0m\u001b[1;33m.\u001b[0m\u001b[0mlabels_\u001b[0m\u001b[1;33m\u001b[0m\u001b[1;33m\u001b[0m\u001b[0m\n\u001b[0;32m     48\u001b[0m \u001b[1;33m\u001b[0m\u001b[0m\n",
      "\u001b[1;32m~\\anaconda3\\lib\\site-packages\\sklearn\\cluster\\_kmeans.py\u001b[0m in \u001b[0;36mfit\u001b[1;34m(self, X, y, sample_weight)\u001b[0m\n\u001b[0;32m   1135\u001b[0m             \u001b[0mFitted\u001b[0m \u001b[0mestimator\u001b[0m\u001b[1;33m.\u001b[0m\u001b[1;33m\u001b[0m\u001b[1;33m\u001b[0m\u001b[0m\n\u001b[0;32m   1136\u001b[0m         \"\"\"\n\u001b[1;32m-> 1137\u001b[1;33m         X = self._validate_data(\n\u001b[0m\u001b[0;32m   1138\u001b[0m             \u001b[0mX\u001b[0m\u001b[1;33m,\u001b[0m\u001b[1;33m\u001b[0m\u001b[1;33m\u001b[0m\u001b[0m\n\u001b[0;32m   1139\u001b[0m             \u001b[0maccept_sparse\u001b[0m\u001b[1;33m=\u001b[0m\u001b[1;34m\"csr\"\u001b[0m\u001b[1;33m,\u001b[0m\u001b[1;33m\u001b[0m\u001b[1;33m\u001b[0m\u001b[0m\n",
      "\u001b[1;32m~\\anaconda3\\lib\\site-packages\\sklearn\\base.py\u001b[0m in \u001b[0;36m_validate_data\u001b[1;34m(self, X, y, reset, validate_separately, **check_params)\u001b[0m\n\u001b[0;32m    564\u001b[0m             \u001b[1;32mraise\u001b[0m \u001b[0mValueError\u001b[0m\u001b[1;33m(\u001b[0m\u001b[1;34m\"Validation should be done on X, y or both.\"\u001b[0m\u001b[1;33m)\u001b[0m\u001b[1;33m\u001b[0m\u001b[1;33m\u001b[0m\u001b[0m\n\u001b[0;32m    565\u001b[0m         \u001b[1;32melif\u001b[0m \u001b[1;32mnot\u001b[0m \u001b[0mno_val_X\u001b[0m \u001b[1;32mand\u001b[0m \u001b[0mno_val_y\u001b[0m\u001b[1;33m:\u001b[0m\u001b[1;33m\u001b[0m\u001b[1;33m\u001b[0m\u001b[0m\n\u001b[1;32m--> 566\u001b[1;33m             \u001b[0mX\u001b[0m \u001b[1;33m=\u001b[0m \u001b[0mcheck_array\u001b[0m\u001b[1;33m(\u001b[0m\u001b[0mX\u001b[0m\u001b[1;33m,\u001b[0m \u001b[1;33m**\u001b[0m\u001b[0mcheck_params\u001b[0m\u001b[1;33m)\u001b[0m\u001b[1;33m\u001b[0m\u001b[1;33m\u001b[0m\u001b[0m\n\u001b[0m\u001b[0;32m    567\u001b[0m             \u001b[0mout\u001b[0m \u001b[1;33m=\u001b[0m \u001b[0mX\u001b[0m\u001b[1;33m\u001b[0m\u001b[1;33m\u001b[0m\u001b[0m\n\u001b[0;32m    568\u001b[0m         \u001b[1;32melif\u001b[0m \u001b[0mno_val_X\u001b[0m \u001b[1;32mand\u001b[0m \u001b[1;32mnot\u001b[0m \u001b[0mno_val_y\u001b[0m\u001b[1;33m:\u001b[0m\u001b[1;33m\u001b[0m\u001b[1;33m\u001b[0m\u001b[0m\n",
      "\u001b[1;32m~\\anaconda3\\lib\\site-packages\\sklearn\\utils\\validation.py\u001b[0m in \u001b[0;36mcheck_array\u001b[1;34m(array, accept_sparse, accept_large_sparse, dtype, order, copy, force_all_finite, ensure_2d, allow_nd, ensure_min_samples, ensure_min_features, estimator)\u001b[0m\n\u001b[0;32m    803\u001b[0m         \u001b[0mn_samples\u001b[0m \u001b[1;33m=\u001b[0m \u001b[0m_num_samples\u001b[0m\u001b[1;33m(\u001b[0m\u001b[0marray\u001b[0m\u001b[1;33m)\u001b[0m\u001b[1;33m\u001b[0m\u001b[1;33m\u001b[0m\u001b[0m\n\u001b[0;32m    804\u001b[0m         \u001b[1;32mif\u001b[0m \u001b[0mn_samples\u001b[0m \u001b[1;33m<\u001b[0m \u001b[0mensure_min_samples\u001b[0m\u001b[1;33m:\u001b[0m\u001b[1;33m\u001b[0m\u001b[1;33m\u001b[0m\u001b[0m\n\u001b[1;32m--> 805\u001b[1;33m             raise ValueError(\n\u001b[0m\u001b[0;32m    806\u001b[0m                 \u001b[1;34m\"Found array with %d sample(s) (shape=%s) while a\"\u001b[0m\u001b[1;33m\u001b[0m\u001b[1;33m\u001b[0m\u001b[0m\n\u001b[0;32m    807\u001b[0m                 \u001b[1;34m\" minimum of %d is required%s.\"\u001b[0m\u001b[1;33m\u001b[0m\u001b[1;33m\u001b[0m\u001b[0m\n",
      "\u001b[1;31mValueError\u001b[0m: Found array with 0 sample(s) (shape=(0, 2)) while a minimum of 1 is required."
     ]
    }
   ],
   "source": [
    "import pandas as pd\n",
    "from sklearn.cluster import KMeans\n",
    "import folium\n",
    "from folium.plugins import MarkerCluster\n",
    "import ipywidgets as widgets\n",
    "from IPython.display import display, IFrame\n",
    "\n",
    "# 데이터 로드\n",
    "file_path = '소상공인시장진흥공단_상가(상권)정보_경남_202312.csv'\n",
    "data = pd.read_csv(file_path, encoding='utf8')\n",
    "\n",
    "# 필요한 열 선택 (예: 상호명, 지번주소, 위도, 경도, 업종 대분류명)\n",
    "data = data[['상호명', '지번주소', '위도', '경도', '상권업종대분류명']]\n",
    "\n",
    "# 위젯 생성\n",
    "categories = data['상권업종대분류명'].unique().tolist()\n",
    "category_widget = widgets.Dropdown(\n",
    "    options=categories,\n",
    "    value=categories[0],\n",
    "    description='카테고리:',\n",
    ")\n",
    "\n",
    "keyword_widget = widgets.Text(\n",
    "    value='',\n",
    "    description='키워드:',\n",
    ")\n",
    "\n",
    "button = widgets.Button(\n",
    "    description='확인',\n",
    "    button_style='success',  # 'success', 'info', 'warning', 'danger' 또는 ''\n",
    "    tooltip='클릭하여 지도를 업데이트',\n",
    "    icon='check'\n",
    ")\n",
    "\n",
    "# 지도 생성 및 업데이트 함수\n",
    "def update_map(category, keyword):\n",
    "    filtered_data = data[(data['상권업종대분류명'] == category) & (data['상호명'].str.contains(keyword))].copy()\n",
    "    \n",
    "    # 지도 생성 (경남 지역 중심 좌표 설정, 예: 창원)\n",
    "    map_center = [35.2271, 128.6812]\n",
    "    m = folium.Map(location=map_center, zoom_start=13)\n",
    "    \n",
    "    # K-Means 군집화\n",
    "    coords = filtered_data[['위도', '경도']]\n",
    "    kmeans = KMeans(n_clusters=5, random_state=42, n_init=10)\n",
    "    kmeans.fit(coords)\n",
    "    filtered_data['cluster'] = kmeans.labels_\n",
    "\n",
    "    marker_cluster = MarkerCluster().add_to(m)\n",
    "    for idx, row in filtered_data.iterrows():\n",
    "        popup_text = f\"상호명: {row['상호명']}<br>주소: {row['지번주소']}\"\n",
    "        folium.Marker(\n",
    "            location=[row['위도'], row['경도']],\n",
    "            popup=folium.Popup(popup_text, max_width=300),\n",
    "            icon=folium.Icon(color='red' if row['cluster'] == 0 else 'blue')\n",
    "        ).add_to(marker_cluster)\n",
    "        \n",
    "    # 지도를 HTML 파일로 저장 및 표시\n",
    "    output_file = \"interactive_map.html\"\n",
    "    m.save(output_file)\n",
    "    display(IFrame(output_file, width=800, height=600))\n",
    "\n",
    "def on_button_click(b):\n",
    "    update_map(category_widget.value, keyword_widget.value)\n",
    "\n",
    "button.on_click(on_button_click)\n",
    "\n",
    "# 위젯 디스플레이\n",
    "display(category_widget, keyword_widget, button)\n",
    "\n",
    "update_map(categories[0], '')\n"
   ]
  },
  {
   "cell_type": "code",
   "execution_count": 8,
   "id": "2b836ab8",
   "metadata": {
    "scrolled": false
   },
   "outputs": [
    {
     "data": {
      "application/vnd.jupyter.widget-view+json": {
       "model_id": "d4b7917d968a4033ac0a387356c7ba93",
       "version_major": 2,
       "version_minor": 0
      },
      "text/plain": [
       "Dropdown(description='카테고리:', options=('소매', '음식', '보건의료', '교육', '수리·개인', '예술·스포츠', '시설관리·임대', '부동산', '과학·기술',…"
      ]
     },
     "metadata": {},
     "output_type": "display_data"
    },
    {
     "data": {
      "application/vnd.jupyter.widget-view+json": {
       "model_id": "27f21736fc7149c5a969e9cd3c8b0cad",
       "version_major": 2,
       "version_minor": 0
      },
      "text/plain": [
       "Text(value='', description='키워드:')"
      ]
     },
     "metadata": {},
     "output_type": "display_data"
    },
    {
     "data": {
      "application/vnd.jupyter.widget-view+json": {
       "model_id": "c2e2de60619b4756830fc63333bd2e72",
       "version_major": 2,
       "version_minor": 0
      },
      "text/plain": [
       "Button(button_style='success', description='확인', icon='check', style=ButtonStyle(), tooltip='클릭하여 지도를 업데이트')"
      ]
     },
     "metadata": {},
     "output_type": "display_data"
    },
    {
     "data": {
      "text/html": [
       "\n",
       "        <iframe\n",
       "            width=\"800\"\n",
       "            height=\"600\"\n",
       "            src=\"interactive_map.html\"\n",
       "            frameborder=\"0\"\n",
       "            allowfullscreen\n",
       "            \n",
       "        ></iframe>\n",
       "        "
      ],
      "text/plain": [
       "<IPython.lib.display.IFrame at 0x1f72bebad90>"
      ]
     },
     "metadata": {},
     "output_type": "display_data"
    }
   ],
   "source": [
    "# 상세 정보 팝업 함수\n",
    "def add_popup(marker, popup_text):\n",
    "    folium.Popup(popup_text, max_width=300).add_to(marker)\n",
    "\n",
    "# 지도 생성 및 업데이트 함수\n",
    "def update_map(category, keyword):\n",
    "    filtered_data = data[(data['상권업종대분류명'] == category) & (data['상호명'].str.contains(keyword))].copy()\n",
    "    \n",
    "    # 업종별 평균 경도와 위도 계산\n",
    "    avg_coords = filtered_data.groupby('상권업종대분류명')[['위도', '경도']].mean().reset_index()\n",
    "    \n",
    "    # 지도 생성 (경남 지역 중심 좌표 설정, 예: 창원)\n",
    "    map_center = [35.2271, 128.6812]\n",
    "    m = folium.Map(location=map_center, zoom_start=13)\n",
    "    \n",
    "    # K-Means 군집화\n",
    "    coords = filtered_data[['위도', '경도']]\n",
    "    kmeans = KMeans(n_clusters=5, random_state=42, n_init=10)\n",
    "    kmeans.fit(coords)\n",
    "    filtered_data['cluster'] = kmeans.labels_\n",
    "\n",
    "    marker_cluster = MarkerCluster().add_to(m)\n",
    "    for idx, row in filtered_data.iterrows():\n",
    "        popup_text = f\"상호명: {row['상호명']}<br>주소: {row['지번주소']}\"\n",
    "        marker = folium.Marker(\n",
    "            location=[row['위도'], row['경도']],\n",
    "            popup=popup_text,\n",
    "            icon=folium.Icon(color='red' if row['cluster'] == 0 else 'blue', icon = 'star')\n",
    "        ).add_to(marker_cluster)\n",
    "        \n",
    "        # 팝업 추가\n",
    "        add_popup(marker, popup_text)\n",
    "        \n",
    "    # 지도를 HTML 파일로 저장 및 표시\n",
    "    output_file = \"interactive_map.html\"\n",
    "    m.save(output_file)\n",
    "    display(IFrame(output_file, width=800, height=600))\n",
    "\n",
    "def on_button_click(b):\n",
    "    update_map(category_widget.value, keyword_widget.value)\n",
    "\n",
    "button.on_click(on_button_click)\n",
    "\n",
    "# 위젯 디스플레이\n",
    "display(category_widget, keyword_widget, button)\n",
    "\n",
    "update_map(categories[0], '')\n"
   ]
  },
  {
   "cell_type": "code",
   "execution_count": null,
   "id": "3063297c",
   "metadata": {},
   "outputs": [],
   "source": []
  }
 ],
 "metadata": {
  "kernelspec": {
   "display_name": "Python 3 (ipykernel)",
   "language": "python",
   "name": "python3"
  },
  "language_info": {
   "codemirror_mode": {
    "name": "ipython",
    "version": 3
   },
   "file_extension": ".py",
   "mimetype": "text/x-python",
   "name": "python",
   "nbconvert_exporter": "python",
   "pygments_lexer": "ipython3",
   "version": "3.9.13"
  }
 },
 "nbformat": 4,
 "nbformat_minor": 5
}
